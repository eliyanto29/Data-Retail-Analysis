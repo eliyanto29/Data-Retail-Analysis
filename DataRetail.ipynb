{
  "nbformat": 4,
  "nbformat_minor": 0,
  "metadata": {
    "colab": {
      "name": "DataRetail",
      "provenance": [],
      "collapsed_sections": [
        "34GG-k8KI3oG",
        "qdfzK9WiKI27"
      ],
      "authorship_tag": "ABX9TyNbobeVsno9PHrb/Da6oPbv",
      "include_colab_link": true
    },
    "kernelspec": {
      "name": "python3",
      "display_name": "Python 3"
    },
    "accelerator": "GPU"
  },
  "cells": [
    {
      "cell_type": "markdown",
      "metadata": {
        "id": "view-in-github",
        "colab_type": "text"
      },
      "source": [
        "<a href=\"https://colab.research.google.com/github/eliyanto29/analisis-data-retail/blob/master/DataRetail.ipynb\" target=\"_parent\"><img src=\"https://colab.research.google.com/assets/colab-badge.svg\" alt=\"Open In Colab\"/></a>"
      ]
    },
    {
      "cell_type": "markdown",
      "metadata": {
        "id": "i81wKWdYIvEO",
        "colab_type": "text"
      },
      "source": [
        "#**Analisis Data Retail**\n",
        "Joko Eliyanto"
      ]
    },
    {
      "cell_type": "markdown",
      "metadata": {
        "id": "34GG-k8KI3oG",
        "colab_type": "text"
      },
      "source": [
        "###Import Module"
      ]
    },
    {
      "cell_type": "code",
      "metadata": {
        "id": "PzgyatP0I_Yo",
        "colab_type": "code",
        "colab": {}
      },
      "source": [
        "import pandas as pd\n",
        "import matplotlib.pyplot as plt"
      ],
      "execution_count": 2,
      "outputs": []
    },
    {
      "cell_type": "markdown",
      "metadata": {
        "id": "5nvQnEgFJMQ7",
        "colab_type": "text"
      },
      "source": [
        "Data Preparation"
      ]
    },
    {
      "cell_type": "code",
      "metadata": {
        "id": "m4r5PfY1bLHI",
        "colab_type": "code",
        "colab": {
          "base_uri": "https://localhost:8080/",
          "height": 297
        },
        "outputId": "325bccaf-6113-4615-e86b-71a15fce4ed2"
      },
      "source": [
        "#Membuka data\n",
        "data=pd.read_csv('https://raw.githubusercontent.com/eliyanto29/analisis-data-retail/master/DATA_RETAIL.csv')\n",
        "data.head(8)"
      ],
      "execution_count": 3,
      "outputs": [
        {
          "output_type": "execute_result",
          "data": {
            "text/html": [
              "<div>\n",
              "<style scoped>\n",
              "    .dataframe tbody tr th:only-of-type {\n",
              "        vertical-align: middle;\n",
              "    }\n",
              "\n",
              "    .dataframe tbody tr th {\n",
              "        vertical-align: top;\n",
              "    }\n",
              "\n",
              "    .dataframe thead th {\n",
              "        text-align: right;\n",
              "    }\n",
              "</style>\n",
              "<table border=\"1\" class=\"dataframe\">\n",
              "  <thead>\n",
              "    <tr style=\"text-align: right;\">\n",
              "      <th></th>\n",
              "      <th>order_id</th>\n",
              "      <th>order_date</th>\n",
              "      <th>customer_id</th>\n",
              "      <th>segment</th>\n",
              "      <th>category</th>\n",
              "      <th>sub_category</th>\n",
              "      <th>sales</th>\n",
              "      <th>quantity</th>\n",
              "      <th>profit</th>\n",
              "    </tr>\n",
              "  </thead>\n",
              "  <tbody>\n",
              "    <tr>\n",
              "      <th>0</th>\n",
              "      <td>CA-2016-152156</td>\n",
              "      <td>2016-11-08</td>\n",
              "      <td>CG-12520</td>\n",
              "      <td>Consumer</td>\n",
              "      <td>Furniture</td>\n",
              "      <td>Bookcases</td>\n",
              "      <td>261.9600</td>\n",
              "      <td>2</td>\n",
              "      <td>41.9136</td>\n",
              "    </tr>\n",
              "    <tr>\n",
              "      <th>1</th>\n",
              "      <td>CA-2016-152156</td>\n",
              "      <td>2016-11-08</td>\n",
              "      <td>CG-12520</td>\n",
              "      <td>Consumer</td>\n",
              "      <td>Furniture</td>\n",
              "      <td>Chairs</td>\n",
              "      <td>731.9400</td>\n",
              "      <td>3</td>\n",
              "      <td>219.5820</td>\n",
              "    </tr>\n",
              "    <tr>\n",
              "      <th>2</th>\n",
              "      <td>CA-2016-138688</td>\n",
              "      <td>2016-06-12</td>\n",
              "      <td>DV-13045</td>\n",
              "      <td>Corporate</td>\n",
              "      <td>Office Supplies</td>\n",
              "      <td>Labels</td>\n",
              "      <td>14.6200</td>\n",
              "      <td>2</td>\n",
              "      <td>6.8714</td>\n",
              "    </tr>\n",
              "    <tr>\n",
              "      <th>3</th>\n",
              "      <td>US-2015-108966</td>\n",
              "      <td>2015-10-11</td>\n",
              "      <td>SO-20335</td>\n",
              "      <td>Consumer</td>\n",
              "      <td>Furniture</td>\n",
              "      <td>Tables</td>\n",
              "      <td>957.5775</td>\n",
              "      <td>5</td>\n",
              "      <td>-383.0310</td>\n",
              "    </tr>\n",
              "    <tr>\n",
              "      <th>4</th>\n",
              "      <td>US-2015-108966</td>\n",
              "      <td>2015-10-11</td>\n",
              "      <td>SO-20335</td>\n",
              "      <td>Consumer</td>\n",
              "      <td>Office Supplies</td>\n",
              "      <td>Storage</td>\n",
              "      <td>22.3680</td>\n",
              "      <td>2</td>\n",
              "      <td>2.5164</td>\n",
              "    </tr>\n",
              "    <tr>\n",
              "      <th>5</th>\n",
              "      <td>CA-2014-115812</td>\n",
              "      <td>2014-06-09</td>\n",
              "      <td>BH-11710</td>\n",
              "      <td>Consumer</td>\n",
              "      <td>Furniture</td>\n",
              "      <td>Furnishings</td>\n",
              "      <td>48.8600</td>\n",
              "      <td>7</td>\n",
              "      <td>14.1694</td>\n",
              "    </tr>\n",
              "    <tr>\n",
              "      <th>6</th>\n",
              "      <td>CA-2014-115812</td>\n",
              "      <td>2014-06-09</td>\n",
              "      <td>BH-11710</td>\n",
              "      <td>Consumer</td>\n",
              "      <td>Office Supplies</td>\n",
              "      <td>Art</td>\n",
              "      <td>7.2800</td>\n",
              "      <td>4</td>\n",
              "      <td>1.9656</td>\n",
              "    </tr>\n",
              "    <tr>\n",
              "      <th>7</th>\n",
              "      <td>CA-2014-115812</td>\n",
              "      <td>2014-06-09</td>\n",
              "      <td>BH-11710</td>\n",
              "      <td>Consumer</td>\n",
              "      <td>Technology</td>\n",
              "      <td>Phones</td>\n",
              "      <td>907.1520</td>\n",
              "      <td>6</td>\n",
              "      <td>90.7152</td>\n",
              "    </tr>\n",
              "  </tbody>\n",
              "</table>\n",
              "</div>"
            ],
            "text/plain": [
              "         order_id  order_date customer_id  ...     sales quantity    profit\n",
              "0  CA-2016-152156  2016-11-08    CG-12520  ...  261.9600        2   41.9136\n",
              "1  CA-2016-152156  2016-11-08    CG-12520  ...  731.9400        3  219.5820\n",
              "2  CA-2016-138688  2016-06-12    DV-13045  ...   14.6200        2    6.8714\n",
              "3  US-2015-108966  2015-10-11    SO-20335  ...  957.5775        5 -383.0310\n",
              "4  US-2015-108966  2015-10-11    SO-20335  ...   22.3680        2    2.5164\n",
              "5  CA-2014-115812  2014-06-09    BH-11710  ...   48.8600        7   14.1694\n",
              "6  CA-2014-115812  2014-06-09    BH-11710  ...    7.2800        4    1.9656\n",
              "7  CA-2014-115812  2014-06-09    BH-11710  ...  907.1520        6   90.7152\n",
              "\n",
              "[8 rows x 9 columns]"
            ]
          },
          "metadata": {
            "tags": []
          },
          "execution_count": 3
        }
      ]
    },
    {
      "cell_type": "code",
      "metadata": {
        "id": "ST9I0Rktbqpj",
        "colab_type": "code",
        "colab": {
          "base_uri": "https://localhost:8080/",
          "height": 289
        },
        "outputId": "d884f9de-0832-4a06-f16b-07683b55a0a4"
      },
      "source": [
        "#Info Dataset\n",
        "data.info()"
      ],
      "execution_count": 4,
      "outputs": [
        {
          "output_type": "stream",
          "text": [
            "<class 'pandas.core.frame.DataFrame'>\n",
            "RangeIndex: 9988 entries, 0 to 9987\n",
            "Data columns (total 9 columns):\n",
            " #   Column        Non-Null Count  Dtype  \n",
            "---  ------        --------------  -----  \n",
            " 0   order_id      9988 non-null   object \n",
            " 1   order_date    9988 non-null   object \n",
            " 2   customer_id   9988 non-null   object \n",
            " 3   segment       9988 non-null   object \n",
            " 4   category      9988 non-null   object \n",
            " 5   sub_category  9988 non-null   object \n",
            " 6   sales         9988 non-null   float64\n",
            " 7   quantity      9988 non-null   int64  \n",
            " 8   profit        9988 non-null   float64\n",
            "dtypes: float64(2), int64(1), object(6)\n",
            "memory usage: 702.4+ KB\n"
          ],
          "name": "stdout"
        }
      ]
    },
    {
      "cell_type": "code",
      "metadata": {
        "id": "rooKpxNRbvY7",
        "colab_type": "code",
        "colab": {
          "base_uri": "https://localhost:8080/",
          "height": 289
        },
        "outputId": "60ca166e-0731-4938-f05b-32c8168538af"
      },
      "source": [
        "#Mengubah tipe data tanggal menjadi tipe kalender\n",
        "data['order_date']=pd.to_datetime(data['order_date'])\n",
        "data.info()"
      ],
      "execution_count": 5,
      "outputs": [
        {
          "output_type": "stream",
          "text": [
            "<class 'pandas.core.frame.DataFrame'>\n",
            "RangeIndex: 9988 entries, 0 to 9987\n",
            "Data columns (total 9 columns):\n",
            " #   Column        Non-Null Count  Dtype         \n",
            "---  ------        --------------  -----         \n",
            " 0   order_id      9988 non-null   object        \n",
            " 1   order_date    9988 non-null   datetime64[ns]\n",
            " 2   customer_id   9988 non-null   object        \n",
            " 3   segment       9988 non-null   object        \n",
            " 4   category      9988 non-null   object        \n",
            " 5   sub_category  9988 non-null   object        \n",
            " 6   sales         9988 non-null   float64       \n",
            " 7   quantity      9988 non-null   int64         \n",
            " 8   profit        9988 non-null   float64       \n",
            "dtypes: datetime64[ns](1), float64(2), int64(1), object(5)\n",
            "memory usage: 702.4+ KB\n"
          ],
          "name": "stdout"
        }
      ]
    },
    {
      "cell_type": "code",
      "metadata": {
        "id": "xAD4wHRrdKLC",
        "colab_type": "code",
        "colab": {
          "base_uri": "https://localhost:8080/",
          "height": 419
        },
        "outputId": "4a619be7-391f-42a6-8172-7191f290c567"
      },
      "source": [
        "#Mengurutkan data berdasarkan tanggal\n",
        "data.sort_values('order_date', ascending=True, inplace=True)\n",
        "data=data.reset_index(drop=True)\n",
        "data"
      ],
      "execution_count": 7,
      "outputs": [
        {
          "output_type": "execute_result",
          "data": {
            "text/html": [
              "<div>\n",
              "<style scoped>\n",
              "    .dataframe tbody tr th:only-of-type {\n",
              "        vertical-align: middle;\n",
              "    }\n",
              "\n",
              "    .dataframe tbody tr th {\n",
              "        vertical-align: top;\n",
              "    }\n",
              "\n",
              "    .dataframe thead th {\n",
              "        text-align: right;\n",
              "    }\n",
              "</style>\n",
              "<table border=\"1\" class=\"dataframe\">\n",
              "  <thead>\n",
              "    <tr style=\"text-align: right;\">\n",
              "      <th></th>\n",
              "      <th>order_id</th>\n",
              "      <th>order_date</th>\n",
              "      <th>customer_id</th>\n",
              "      <th>segment</th>\n",
              "      <th>category</th>\n",
              "      <th>sub_category</th>\n",
              "      <th>sales</th>\n",
              "      <th>quantity</th>\n",
              "      <th>profit</th>\n",
              "    </tr>\n",
              "  </thead>\n",
              "  <tbody>\n",
              "    <tr>\n",
              "      <th>0</th>\n",
              "      <td>CA-2014-103800</td>\n",
              "      <td>2014-01-03</td>\n",
              "      <td>DP-13000</td>\n",
              "      <td>Consumer</td>\n",
              "      <td>Office Supplies</td>\n",
              "      <td>Paper</td>\n",
              "      <td>16.448</td>\n",
              "      <td>2</td>\n",
              "      <td>5.5512</td>\n",
              "    </tr>\n",
              "    <tr>\n",
              "      <th>1</th>\n",
              "      <td>CA-2014-112326</td>\n",
              "      <td>2014-01-04</td>\n",
              "      <td>PO-19195</td>\n",
              "      <td>Home Office</td>\n",
              "      <td>Office Supplies</td>\n",
              "      <td>Binders</td>\n",
              "      <td>3.540</td>\n",
              "      <td>2</td>\n",
              "      <td>-5.4870</td>\n",
              "    </tr>\n",
              "    <tr>\n",
              "      <th>2</th>\n",
              "      <td>CA-2014-112326</td>\n",
              "      <td>2014-01-04</td>\n",
              "      <td>PO-19195</td>\n",
              "      <td>Home Office</td>\n",
              "      <td>Office Supplies</td>\n",
              "      <td>Storage</td>\n",
              "      <td>272.736</td>\n",
              "      <td>3</td>\n",
              "      <td>-64.7748</td>\n",
              "    </tr>\n",
              "    <tr>\n",
              "      <th>3</th>\n",
              "      <td>CA-2014-112326</td>\n",
              "      <td>2014-01-04</td>\n",
              "      <td>PO-19195</td>\n",
              "      <td>Home Office</td>\n",
              "      <td>Office Supplies</td>\n",
              "      <td>Labels</td>\n",
              "      <td>11.784</td>\n",
              "      <td>3</td>\n",
              "      <td>4.2717</td>\n",
              "    </tr>\n",
              "    <tr>\n",
              "      <th>4</th>\n",
              "      <td>CA-2014-141817</td>\n",
              "      <td>2014-01-05</td>\n",
              "      <td>MB-18085</td>\n",
              "      <td>Consumer</td>\n",
              "      <td>Office Supplies</td>\n",
              "      <td>Art</td>\n",
              "      <td>19.536</td>\n",
              "      <td>3</td>\n",
              "      <td>4.8840</td>\n",
              "    </tr>\n",
              "    <tr>\n",
              "      <th>...</th>\n",
              "      <td>...</td>\n",
              "      <td>...</td>\n",
              "      <td>...</td>\n",
              "      <td>...</td>\n",
              "      <td>...</td>\n",
              "      <td>...</td>\n",
              "      <td>...</td>\n",
              "      <td>...</td>\n",
              "      <td>...</td>\n",
              "    </tr>\n",
              "    <tr>\n",
              "      <th>9983</th>\n",
              "      <td>CA-2017-115427</td>\n",
              "      <td>2017-12-30</td>\n",
              "      <td>EB-13975</td>\n",
              "      <td>Corporate</td>\n",
              "      <td>Office Supplies</td>\n",
              "      <td>Binders</td>\n",
              "      <td>13.904</td>\n",
              "      <td>2</td>\n",
              "      <td>4.5188</td>\n",
              "    </tr>\n",
              "    <tr>\n",
              "      <th>9984</th>\n",
              "      <td>CA-2017-115427</td>\n",
              "      <td>2017-12-30</td>\n",
              "      <td>EB-13975</td>\n",
              "      <td>Corporate</td>\n",
              "      <td>Office Supplies</td>\n",
              "      <td>Binders</td>\n",
              "      <td>20.720</td>\n",
              "      <td>2</td>\n",
              "      <td>6.4750</td>\n",
              "    </tr>\n",
              "    <tr>\n",
              "      <th>9985</th>\n",
              "      <td>CA-2017-156720</td>\n",
              "      <td>2017-12-30</td>\n",
              "      <td>JM-15580</td>\n",
              "      <td>Consumer</td>\n",
              "      <td>Office Supplies</td>\n",
              "      <td>Fasteners</td>\n",
              "      <td>3.024</td>\n",
              "      <td>3</td>\n",
              "      <td>-0.6048</td>\n",
              "    </tr>\n",
              "    <tr>\n",
              "      <th>9986</th>\n",
              "      <td>CA-2017-143259</td>\n",
              "      <td>2017-12-30</td>\n",
              "      <td>PO-18865</td>\n",
              "      <td>Consumer</td>\n",
              "      <td>Office Supplies</td>\n",
              "      <td>Binders</td>\n",
              "      <td>52.776</td>\n",
              "      <td>3</td>\n",
              "      <td>19.7910</td>\n",
              "    </tr>\n",
              "    <tr>\n",
              "      <th>9987</th>\n",
              "      <td>CA-2017-143259</td>\n",
              "      <td>2017-12-30</td>\n",
              "      <td>PO-18865</td>\n",
              "      <td>Consumer</td>\n",
              "      <td>Furniture</td>\n",
              "      <td>Bookcases</td>\n",
              "      <td>323.136</td>\n",
              "      <td>4</td>\n",
              "      <td>12.1176</td>\n",
              "    </tr>\n",
              "  </tbody>\n",
              "</table>\n",
              "<p>9988 rows × 9 columns</p>\n",
              "</div>"
            ],
            "text/plain": [
              "            order_id order_date customer_id  ...    sales quantity   profit\n",
              "0     CA-2014-103800 2014-01-03    DP-13000  ...   16.448        2   5.5512\n",
              "1     CA-2014-112326 2014-01-04    PO-19195  ...    3.540        2  -5.4870\n",
              "2     CA-2014-112326 2014-01-04    PO-19195  ...  272.736        3 -64.7748\n",
              "3     CA-2014-112326 2014-01-04    PO-19195  ...   11.784        3   4.2717\n",
              "4     CA-2014-141817 2014-01-05    MB-18085  ...   19.536        3   4.8840\n",
              "...              ...        ...         ...  ...      ...      ...      ...\n",
              "9983  CA-2017-115427 2017-12-30    EB-13975  ...   13.904        2   4.5188\n",
              "9984  CA-2017-115427 2017-12-30    EB-13975  ...   20.720        2   6.4750\n",
              "9985  CA-2017-156720 2017-12-30    JM-15580  ...    3.024        3  -0.6048\n",
              "9986  CA-2017-143259 2017-12-30    PO-18865  ...   52.776        3  19.7910\n",
              "9987  CA-2017-143259 2017-12-30    PO-18865  ...  323.136        4  12.1176\n",
              "\n",
              "[9988 rows x 9 columns]"
            ]
          },
          "metadata": {
            "tags": []
          },
          "execution_count": 7
        }
      ]
    },
    {
      "cell_type": "markdown",
      "metadata": {
        "id": "qdfzK9WiKI27",
        "colab_type": "text"
      },
      "source": [
        "###Analisis Data Bulanan"
      ]
    },
    {
      "cell_type": "markdown",
      "metadata": {
        "id": "7htuAHaWLvtq",
        "colab_type": "text"
      },
      "source": [
        "Memilih data berdasarkan Bulan dan Tahun"
      ]
    },
    {
      "cell_type": "code",
      "metadata": {
        "id": "XXBSfmMZejeU",
        "colab_type": "code",
        "colab": {
          "base_uri": "https://localhost:8080/",
          "height": 419
        },
        "outputId": "a60c15c2-34df-468c-d506-56b12e2205d5"
      },
      "source": [
        "#Memilih data berdasarkan Bulan dan Tahun\n",
        "tahun=data['order_date'].map(lambda x : x.year  == 2016)\n",
        "bulan=data['order_date'].map(lambda x : x.month == 1)\n",
        "\n",
        "Jan2016=data[tahun & bulan].reset_index(drop=True)\n",
        "Jan2016"
      ],
      "execution_count": 14,
      "outputs": [
        {
          "output_type": "execute_result",
          "data": {
            "text/html": [
              "<div>\n",
              "<style scoped>\n",
              "    .dataframe tbody tr th:only-of-type {\n",
              "        vertical-align: middle;\n",
              "    }\n",
              "\n",
              "    .dataframe tbody tr th {\n",
              "        vertical-align: top;\n",
              "    }\n",
              "\n",
              "    .dataframe thead th {\n",
              "        text-align: right;\n",
              "    }\n",
              "</style>\n",
              "<table border=\"1\" class=\"dataframe\">\n",
              "  <thead>\n",
              "    <tr style=\"text-align: right;\">\n",
              "      <th></th>\n",
              "      <th>order_id</th>\n",
              "      <th>order_date</th>\n",
              "      <th>customer_id</th>\n",
              "      <th>segment</th>\n",
              "      <th>category</th>\n",
              "      <th>sub_category</th>\n",
              "      <th>sales</th>\n",
              "      <th>quantity</th>\n",
              "      <th>profit</th>\n",
              "    </tr>\n",
              "  </thead>\n",
              "  <tbody>\n",
              "    <tr>\n",
              "      <th>0</th>\n",
              "      <td>CA-2016-160304</td>\n",
              "      <td>2016-01-02</td>\n",
              "      <td>BM-11575</td>\n",
              "      <td>Corporate</td>\n",
              "      <td>Technology</td>\n",
              "      <td>Phones</td>\n",
              "      <td>231.980</td>\n",
              "      <td>2</td>\n",
              "      <td>67.2742</td>\n",
              "    </tr>\n",
              "    <tr>\n",
              "      <th>1</th>\n",
              "      <td>CA-2016-160304</td>\n",
              "      <td>2016-01-02</td>\n",
              "      <td>BM-11575</td>\n",
              "      <td>Corporate</td>\n",
              "      <td>Furniture</td>\n",
              "      <td>Bookcases</td>\n",
              "      <td>173.940</td>\n",
              "      <td>3</td>\n",
              "      <td>38.2668</td>\n",
              "    </tr>\n",
              "    <tr>\n",
              "      <th>2</th>\n",
              "      <td>US-2016-116365</td>\n",
              "      <td>2016-01-03</td>\n",
              "      <td>CA-12310</td>\n",
              "      <td>Corporate</td>\n",
              "      <td>Technology</td>\n",
              "      <td>Phones</td>\n",
              "      <td>180.960</td>\n",
              "      <td>5</td>\n",
              "      <td>13.5720</td>\n",
              "    </tr>\n",
              "    <tr>\n",
              "      <th>3</th>\n",
              "      <td>CA-2016-125206</td>\n",
              "      <td>2016-01-03</td>\n",
              "      <td>LR-16915</td>\n",
              "      <td>Consumer</td>\n",
              "      <td>Office Supplies</td>\n",
              "      <td>Storage</td>\n",
              "      <td>114.460</td>\n",
              "      <td>2</td>\n",
              "      <td>28.6150</td>\n",
              "    </tr>\n",
              "    <tr>\n",
              "      <th>4</th>\n",
              "      <td>CA-2016-105207</td>\n",
              "      <td>2016-01-03</td>\n",
              "      <td>BO-11350</td>\n",
              "      <td>Corporate</td>\n",
              "      <td>Office Supplies</td>\n",
              "      <td>Binders</td>\n",
              "      <td>11.880</td>\n",
              "      <td>2</td>\n",
              "      <td>5.3460</td>\n",
              "    </tr>\n",
              "    <tr>\n",
              "      <th>...</th>\n",
              "      <td>...</td>\n",
              "      <td>...</td>\n",
              "      <td>...</td>\n",
              "      <td>...</td>\n",
              "      <td>...</td>\n",
              "      <td>...</td>\n",
              "      <td>...</td>\n",
              "      <td>...</td>\n",
              "      <td>...</td>\n",
              "    </tr>\n",
              "    <tr>\n",
              "      <th>84</th>\n",
              "      <td>CA-2016-159891</td>\n",
              "      <td>2016-01-31</td>\n",
              "      <td>BF-11170</td>\n",
              "      <td>Home Office</td>\n",
              "      <td>Office Supplies</td>\n",
              "      <td>Binders</td>\n",
              "      <td>1270.990</td>\n",
              "      <td>1</td>\n",
              "      <td>635.4950</td>\n",
              "    </tr>\n",
              "    <tr>\n",
              "      <th>85</th>\n",
              "      <td>CA-2016-129238</td>\n",
              "      <td>2016-01-31</td>\n",
              "      <td>SC-20050</td>\n",
              "      <td>Home Office</td>\n",
              "      <td>Technology</td>\n",
              "      <td>Phones</td>\n",
              "      <td>109.592</td>\n",
              "      <td>1</td>\n",
              "      <td>8.2194</td>\n",
              "    </tr>\n",
              "    <tr>\n",
              "      <th>86</th>\n",
              "      <td>CA-2016-147970</td>\n",
              "      <td>2016-01-31</td>\n",
              "      <td>AB-10150</td>\n",
              "      <td>Consumer</td>\n",
              "      <td>Office Supplies</td>\n",
              "      <td>Paper</td>\n",
              "      <td>15.552</td>\n",
              "      <td>3</td>\n",
              "      <td>5.4432</td>\n",
              "    </tr>\n",
              "    <tr>\n",
              "      <th>87</th>\n",
              "      <td>CA-2016-159891</td>\n",
              "      <td>2016-01-31</td>\n",
              "      <td>BF-11170</td>\n",
              "      <td>Home Office</td>\n",
              "      <td>Office Supplies</td>\n",
              "      <td>Envelopes</td>\n",
              "      <td>125.360</td>\n",
              "      <td>8</td>\n",
              "      <td>58.9192</td>\n",
              "    </tr>\n",
              "    <tr>\n",
              "      <th>88</th>\n",
              "      <td>CA-2016-129238</td>\n",
              "      <td>2016-01-31</td>\n",
              "      <td>SC-20050</td>\n",
              "      <td>Home Office</td>\n",
              "      <td>Office Supplies</td>\n",
              "      <td>Paper</td>\n",
              "      <td>56.700</td>\n",
              "      <td>5</td>\n",
              "      <td>27.7830</td>\n",
              "    </tr>\n",
              "  </tbody>\n",
              "</table>\n",
              "<p>89 rows × 9 columns</p>\n",
              "</div>"
            ],
            "text/plain": [
              "          order_id order_date customer_id  ...     sales quantity    profit\n",
              "0   CA-2016-160304 2016-01-02    BM-11575  ...   231.980        2   67.2742\n",
              "1   CA-2016-160304 2016-01-02    BM-11575  ...   173.940        3   38.2668\n",
              "2   US-2016-116365 2016-01-03    CA-12310  ...   180.960        5   13.5720\n",
              "3   CA-2016-125206 2016-01-03    LR-16915  ...   114.460        2   28.6150\n",
              "4   CA-2016-105207 2016-01-03    BO-11350  ...    11.880        2    5.3460\n",
              "..             ...        ...         ...  ...       ...      ...       ...\n",
              "84  CA-2016-159891 2016-01-31    BF-11170  ...  1270.990        1  635.4950\n",
              "85  CA-2016-129238 2016-01-31    SC-20050  ...   109.592        1    8.2194\n",
              "86  CA-2016-147970 2016-01-31    AB-10150  ...    15.552        3    5.4432\n",
              "87  CA-2016-159891 2016-01-31    BF-11170  ...   125.360        8   58.9192\n",
              "88  CA-2016-129238 2016-01-31    SC-20050  ...    56.700        5   27.7830\n",
              "\n",
              "[89 rows x 9 columns]"
            ]
          },
          "metadata": {
            "tags": []
          },
          "execution_count": 14
        }
      ]
    },
    {
      "cell_type": "markdown",
      "metadata": {
        "id": "iqrjqc7-L0xn",
        "colab_type": "text"
      },
      "source": [
        "Memilih data berdasarkan kriteria"
      ]
    },
    {
      "cell_type": "code",
      "metadata": {
        "id": "TjSfjHWtLljk",
        "colab_type": "code",
        "colab": {
          "base_uri": "https://localhost:8080/",
          "height": 102
        },
        "outputId": "860a046d-4d14-43ab-e6dd-0562498d5bc9"
      },
      "source": [
        "Jan2016.groupby('segment').count()['customer_id']"
      ],
      "execution_count": 21,
      "outputs": [
        {
          "output_type": "execute_result",
          "data": {
            "text/plain": [
              "segment\n",
              "Consumer       36\n",
              "Corporate      35\n",
              "Home Office    18\n",
              "Name: customer_id, dtype: int64"
            ]
          },
          "metadata": {
            "tags": []
          },
          "execution_count": 21
        }
      ]
    },
    {
      "cell_type": "code",
      "metadata": {
        "id": "By3H6LNQMCNu",
        "colab_type": "code",
        "colab": {
          "base_uri": "https://localhost:8080/",
          "height": 348
        },
        "outputId": "c049416d-ee1e-48eb-a8a4-94d11cc24532"
      },
      "source": [
        "Jan2016.groupby('segment').count()['customer_id'].plot.bar()"
      ],
      "execution_count": 22,
      "outputs": [
        {
          "output_type": "execute_result",
          "data": {
            "text/plain": [
              "<matplotlib.axes._subplots.AxesSubplot at 0x7ffb6ac19080>"
            ]
          },
          "metadata": {
            "tags": []
          },
          "execution_count": 22
        },
        {
          "output_type": "display_data",
          "data": {
            "image/png": "[encoded data removed]",
            "text/plain": [
              "<Figure size 432x288 with 1 Axes>"
            ]
          },
          "metadata": {
            "tags": [],
            "needs_background": "light"
          }
        }
      ]
    },
    {
      "cell_type": "markdown",
      "metadata": {
        "id": "lf_kjyWKMLzd",
        "colab_type": "text"
      },
      "source": [
        "Memilih dan Menghitung data berdasarkan kategori"
      ]
    },
    {
      "cell_type": "code",
      "metadata": {
        "id": "pVfZ53HCMSwT",
        "colab_type": "code",
        "colab": {
          "base_uri": "https://localhost:8080/",
          "height": 204
        },
        "outputId": "2b2e8981-21cd-45ca-c54a-642803448fff"
      },
      "source": [
        "#Jumlah penjualan pada segment Consumer berdasarkan category \n",
        "#Jenis\n",
        "QC=January2016[January2016['segment']=='Consumer'].groupby('category').count()['quantity']\n",
        "print(QC)\n",
        "\n",
        "#Jumlah\n",
        "print(' ')\n",
        "QSC=January2016[January2016['segment']=='Consumer'].groupby('category').sum()['quantity']\n",
        "print(QSC)"
      ],
      "execution_count": 29,
      "outputs": [
        {
          "output_type": "stream",
          "text": [
            "category\n",
            "Furniture          12\n",
            "Office Supplies    21\n",
            "Technology          3\n",
            "Name: quantity, dtype: int64\n",
            " \n",
            "category\n",
            "Furniture          53\n",
            "Office Supplies    89\n",
            "Technology          9\n",
            "Name: quantity, dtype: int64\n"
          ],
          "name": "stdout"
        }
      ]
    },
    {
      "cell_type": "markdown",
      "metadata": {
        "id": "nNzduBVYNdih",
        "colab_type": "text"
      },
      "source": [
        "Laporan Penjualan Berdasarkan Kriteria Segment dan Sub Category, diurutkan berdasar quantity"
      ]
    },
    {
      "cell_type": "code",
      "metadata": {
        "id": "kBWqw26cNb_K",
        "colab_type": "code",
        "colab": {
          "base_uri": "https://localhost:8080/",
          "height": 314
        },
        "outputId": "c3d0837f-406e-4ff4-ea4a-6f6ca833b71c"
      },
      "source": [
        "print(\"Penjualan January 2016\")\n",
        "PJJan2016=Jan2016[Jan2016['segment']=='Home Office'].groupby('sub_category').mean()[['profit','sales','quantity']].sort_values(by='quantity',ascending=False)\n",
        "PJJan2016"
      ],
      "execution_count": 31,
      "outputs": [
        {
          "output_type": "stream",
          "text": [
            "Penjualan January 2016\n"
          ],
          "name": "stdout"
        },
        {
          "output_type": "execute_result",
          "data": {
            "text/html": [
              "<div>\n",
              "<style scoped>\n",
              "    .dataframe tbody tr th:only-of-type {\n",
              "        vertical-align: middle;\n",
              "    }\n",
              "\n",
              "    .dataframe tbody tr th {\n",
              "        vertical-align: top;\n",
              "    }\n",
              "\n",
              "    .dataframe thead th {\n",
              "        text-align: right;\n",
              "    }\n",
              "</style>\n",
              "<table border=\"1\" class=\"dataframe\">\n",
              "  <thead>\n",
              "    <tr style=\"text-align: right;\">\n",
              "      <th></th>\n",
              "      <th>profit</th>\n",
              "      <th>sales</th>\n",
              "      <th>quantity</th>\n",
              "    </tr>\n",
              "    <tr>\n",
              "      <th>sub_category</th>\n",
              "      <th></th>\n",
              "      <th></th>\n",
              "      <th></th>\n",
              "    </tr>\n",
              "  </thead>\n",
              "  <tbody>\n",
              "    <tr>\n",
              "      <th>Furnishings</th>\n",
              "      <td>36.727100</td>\n",
              "      <td>188.791000</td>\n",
              "      <td>8.500000</td>\n",
              "    </tr>\n",
              "    <tr>\n",
              "      <th>Envelopes</th>\n",
              "      <td>41.759500</td>\n",
              "      <td>88.850000</td>\n",
              "      <td>5.000000</td>\n",
              "    </tr>\n",
              "    <tr>\n",
              "      <th>Paper</th>\n",
              "      <td>23.493200</td>\n",
              "      <td>54.386000</td>\n",
              "      <td>3.250000</td>\n",
              "    </tr>\n",
              "    <tr>\n",
              "      <th>Accessories</th>\n",
              "      <td>46.950625</td>\n",
              "      <td>178.026500</td>\n",
              "      <td>2.500000</td>\n",
              "    </tr>\n",
              "    <tr>\n",
              "      <th>Phones</th>\n",
              "      <td>-7.296200</td>\n",
              "      <td>78.518667</td>\n",
              "      <td>2.333333</td>\n",
              "    </tr>\n",
              "    <tr>\n",
              "      <th>Art</th>\n",
              "      <td>5.689800</td>\n",
              "      <td>19.620000</td>\n",
              "      <td>1.500000</td>\n",
              "    </tr>\n",
              "    <tr>\n",
              "      <th>Binders</th>\n",
              "      <td>635.495000</td>\n",
              "      <td>1270.990000</td>\n",
              "      <td>1.000000</td>\n",
              "    </tr>\n",
              "  </tbody>\n",
              "</table>\n",
              "</div>"
            ],
            "text/plain": [
              "                  profit        sales  quantity\n",
              "sub_category                                   \n",
              "Furnishings    36.727100   188.791000  8.500000\n",
              "Envelopes      41.759500    88.850000  5.000000\n",
              "Paper          23.493200    54.386000  3.250000\n",
              "Accessories    46.950625   178.026500  2.500000\n",
              "Phones         -7.296200    78.518667  2.333333\n",
              "Art             5.689800    19.620000  1.500000\n",
              "Binders       635.495000  1270.990000  1.000000"
            ]
          },
          "metadata": {
            "tags": []
          },
          "execution_count": 31
        }
      ]
    },
    {
      "cell_type": "markdown",
      "metadata": {
        "id": "8EkyU0SQN3Sk",
        "colab_type": "text"
      },
      "source": [
        "Membandingkan Penjualan Pada Bulan January Tahun 2016 & 2017"
      ]
    },
    {
      "cell_type": "code",
      "metadata": {
        "id": "ms2Zx4AOKeNw",
        "colab_type": "code",
        "colab": {
          "base_uri": "https://localhost:8080/",
          "height": 459
        },
        "outputId": "863b73d3-83c1-49ce-cc1d-900fe3c13048"
      },
      "source": [
        "#January 2016\n",
        "tahun=data['order_date'].map(lambda x : x.year  == 2016)\n",
        "bulan=data['order_date'].map(lambda x : x.month == 1)\n",
        "\n",
        "Jan2016=data[tahun & bulan].reset_index(drop=True)\n",
        "print(\"Penjualan January 2016\")\n",
        "PJJan2016=Jan2016[Jan2016['segment']=='Home Office'].groupby('sub_category').mean()[['profit','sales','quantity']].sort_values(by='quantity',ascending=False)\n",
        "print(PJJan2016)\n",
        "\n",
        "#January 2017\n",
        "tahun=data['order_date'].map(lambda x : x.year  == 2017)\n",
        "bulan=data['order_date'].map(lambda x : x.month == 1)\n",
        "print('')\n",
        "Jan2017=data[tahun & bulan].reset_index(drop=True)\n",
        "print(\"Penjualan January 2016\")\n",
        "PJJan2017=Jan2017[Jan2017['segment']=='Home Office'].groupby('sub_category').mean()[['profit','sales','quantity']].sort_values(by='quantity',ascending=False)\n",
        "print(PJJan2017)"
      ],
      "execution_count": 32,
      "outputs": [
        {
          "output_type": "stream",
          "text": [
            "Penjualan January 2016\n",
            "                  profit        sales  quantity\n",
            "sub_category                                   \n",
            "Furnishings    36.727100   188.791000  8.500000\n",
            "Envelopes      41.759500    88.850000  5.000000\n",
            "Paper          23.493200    54.386000  3.250000\n",
            "Accessories    46.950625   178.026500  2.500000\n",
            "Phones         -7.296200    78.518667  2.333333\n",
            "Art             5.689800    19.620000  1.500000\n",
            "Binders       635.495000  1270.990000  1.000000\n",
            "\n",
            "Penjualan January 2016\n",
            "                   profit        sales  quantity\n",
            "sub_category                                    \n",
            "Art              4.773467    14.320000  5.000000\n",
            "Copiers       1379.977000  2999.950000  5.000000\n",
            "Binders          9.306467    36.481556  4.666667\n",
            "Accessories     66.671000   251.100571  4.285714\n",
            "Storage         22.192517   309.129667  3.833333\n",
            "Machines       152.088300   350.973000  3.000000\n",
            "Paper           10.059000    21.126667  3.000000\n",
            "Phones          37.109933   279.186000  3.000000\n",
            "Furnishings     12.396400    31.460000  2.333333\n",
            "Fasteners        0.100800     2.520000  2.000000\n",
            "Bookcases       18.695600    84.980000  1.000000\n",
            "Chairs         -13.588200   120.784000  1.000000\n"
          ],
          "name": "stdout"
        }
      ]
    },
    {
      "cell_type": "code",
      "metadata": {
        "id": "-6LQ0fa1Ks1t",
        "colab_type": "code",
        "colab": {
          "base_uri": "https://localhost:8080/",
          "height": 266
        },
        "outputId": "559d70f9-678d-4f43-92cb-a1eb63fd7024"
      },
      "source": [
        "#Menggabungkan tabel January 2016 & January 2017\n",
        "gabungan = pd.concat([PJJan2016, PJJan2017], axis=1, join='inner')\n",
        "gabungan"
      ],
      "execution_count": 33,
      "outputs": [
        {
          "output_type": "execute_result",
          "data": {
            "text/html": [
              "<div>\n",
              "<style scoped>\n",
              "    .dataframe tbody tr th:only-of-type {\n",
              "        vertical-align: middle;\n",
              "    }\n",
              "\n",
              "    .dataframe tbody tr th {\n",
              "        vertical-align: top;\n",
              "    }\n",
              "\n",
              "    .dataframe thead th {\n",
              "        text-align: right;\n",
              "    }\n",
              "</style>\n",
              "<table border=\"1\" class=\"dataframe\">\n",
              "  <thead>\n",
              "    <tr style=\"text-align: right;\">\n",
              "      <th></th>\n",
              "      <th>profit</th>\n",
              "      <th>sales</th>\n",
              "      <th>quantity</th>\n",
              "      <th>profit</th>\n",
              "      <th>sales</th>\n",
              "      <th>quantity</th>\n",
              "    </tr>\n",
              "    <tr>\n",
              "      <th>sub_category</th>\n",
              "      <th></th>\n",
              "      <th></th>\n",
              "      <th></th>\n",
              "      <th></th>\n",
              "      <th></th>\n",
              "      <th></th>\n",
              "    </tr>\n",
              "  </thead>\n",
              "  <tbody>\n",
              "    <tr>\n",
              "      <th>Furnishings</th>\n",
              "      <td>36.727100</td>\n",
              "      <td>188.791000</td>\n",
              "      <td>8.500000</td>\n",
              "      <td>12.396400</td>\n",
              "      <td>31.460000</td>\n",
              "      <td>2.333333</td>\n",
              "    </tr>\n",
              "    <tr>\n",
              "      <th>Paper</th>\n",
              "      <td>23.493200</td>\n",
              "      <td>54.386000</td>\n",
              "      <td>3.250000</td>\n",
              "      <td>10.059000</td>\n",
              "      <td>21.126667</td>\n",
              "      <td>3.000000</td>\n",
              "    </tr>\n",
              "    <tr>\n",
              "      <th>Accessories</th>\n",
              "      <td>46.950625</td>\n",
              "      <td>178.026500</td>\n",
              "      <td>2.500000</td>\n",
              "      <td>66.671000</td>\n",
              "      <td>251.100571</td>\n",
              "      <td>4.285714</td>\n",
              "    </tr>\n",
              "    <tr>\n",
              "      <th>Phones</th>\n",
              "      <td>-7.296200</td>\n",
              "      <td>78.518667</td>\n",
              "      <td>2.333333</td>\n",
              "      <td>37.109933</td>\n",
              "      <td>279.186000</td>\n",
              "      <td>3.000000</td>\n",
              "    </tr>\n",
              "    <tr>\n",
              "      <th>Art</th>\n",
              "      <td>5.689800</td>\n",
              "      <td>19.620000</td>\n",
              "      <td>1.500000</td>\n",
              "      <td>4.773467</td>\n",
              "      <td>14.320000</td>\n",
              "      <td>5.000000</td>\n",
              "    </tr>\n",
              "    <tr>\n",
              "      <th>Binders</th>\n",
              "      <td>635.495000</td>\n",
              "      <td>1270.990000</td>\n",
              "      <td>1.000000</td>\n",
              "      <td>9.306467</td>\n",
              "      <td>36.481556</td>\n",
              "      <td>4.666667</td>\n",
              "    </tr>\n",
              "  </tbody>\n",
              "</table>\n",
              "</div>"
            ],
            "text/plain": [
              "                  profit        sales  ...       sales  quantity\n",
              "sub_category                           ...                      \n",
              "Furnishings    36.727100   188.791000  ...   31.460000  2.333333\n",
              "Paper          23.493200    54.386000  ...   21.126667  3.000000\n",
              "Accessories    46.950625   178.026500  ...  251.100571  4.285714\n",
              "Phones         -7.296200    78.518667  ...  279.186000  3.000000\n",
              "Art             5.689800    19.620000  ...   14.320000  5.000000\n",
              "Binders       635.495000  1270.990000  ...   36.481556  4.666667\n",
              "\n",
              "[6 rows x 6 columns]"
            ]
          },
          "metadata": {
            "tags": []
          },
          "execution_count": 33
        }
      ]
    },
    {
      "cell_type": "code",
      "metadata": {
        "id": "TKNoCNu4LFn9",
        "colab_type": "code",
        "colab": {
          "base_uri": "https://localhost:8080/",
          "height": 283
        },
        "outputId": "b503b8ff-16c4-4921-c4fc-5b1178b82c7a"
      },
      "source": [
        "#Mengganti nama kolom yang kembar\n",
        "cols=pd.Series(gabungan.columns)\n",
        "\n",
        "for dup in cols[cols.duplicated()].unique(): \n",
        "    cols[cols[cols == dup].index.values.tolist()] = [dup + '.' + str(i) if i != 0 else dup for i in range(sum(cols == dup))]\n",
        "\n",
        "gabungan.columns=cols\n",
        "print('Penjualan Januari 2016 dan Januari 2017')\n",
        "gabungan.sort_values('sales', ascending=False)"
      ],
      "execution_count": 40,
      "outputs": [
        {
          "output_type": "stream",
          "text": [
            "Penjualan Januari 2016 dan Januari 2017\n"
          ],
          "name": "stdout"
        },
        {
          "output_type": "execute_result",
          "data": {
            "text/html": [
              "<div>\n",
              "<style scoped>\n",
              "    .dataframe tbody tr th:only-of-type {\n",
              "        vertical-align: middle;\n",
              "    }\n",
              "\n",
              "    .dataframe tbody tr th {\n",
              "        vertical-align: top;\n",
              "    }\n",
              "\n",
              "    .dataframe thead th {\n",
              "        text-align: right;\n",
              "    }\n",
              "</style>\n",
              "<table border=\"1\" class=\"dataframe\">\n",
              "  <thead>\n",
              "    <tr style=\"text-align: right;\">\n",
              "      <th></th>\n",
              "      <th>profit</th>\n",
              "      <th>sales</th>\n",
              "      <th>quantity</th>\n",
              "      <th>profit.1</th>\n",
              "      <th>sales.1</th>\n",
              "      <th>quantity.1</th>\n",
              "    </tr>\n",
              "    <tr>\n",
              "      <th>sub_category</th>\n",
              "      <th></th>\n",
              "      <th></th>\n",
              "      <th></th>\n",
              "      <th></th>\n",
              "      <th></th>\n",
              "      <th></th>\n",
              "    </tr>\n",
              "  </thead>\n",
              "  <tbody>\n",
              "    <tr>\n",
              "      <th>Binders</th>\n",
              "      <td>635.495000</td>\n",
              "      <td>1270.990000</td>\n",
              "      <td>1.000000</td>\n",
              "      <td>9.306467</td>\n",
              "      <td>36.481556</td>\n",
              "      <td>4.666667</td>\n",
              "    </tr>\n",
              "    <tr>\n",
              "      <th>Furnishings</th>\n",
              "      <td>36.727100</td>\n",
              "      <td>188.791000</td>\n",
              "      <td>8.500000</td>\n",
              "      <td>12.396400</td>\n",
              "      <td>31.460000</td>\n",
              "      <td>2.333333</td>\n",
              "    </tr>\n",
              "    <tr>\n",
              "      <th>Accessories</th>\n",
              "      <td>46.950625</td>\n",
              "      <td>178.026500</td>\n",
              "      <td>2.500000</td>\n",
              "      <td>66.671000</td>\n",
              "      <td>251.100571</td>\n",
              "      <td>4.285714</td>\n",
              "    </tr>\n",
              "    <tr>\n",
              "      <th>Phones</th>\n",
              "      <td>-7.296200</td>\n",
              "      <td>78.518667</td>\n",
              "      <td>2.333333</td>\n",
              "      <td>37.109933</td>\n",
              "      <td>279.186000</td>\n",
              "      <td>3.000000</td>\n",
              "    </tr>\n",
              "    <tr>\n",
              "      <th>Paper</th>\n",
              "      <td>23.493200</td>\n",
              "      <td>54.386000</td>\n",
              "      <td>3.250000</td>\n",
              "      <td>10.059000</td>\n",
              "      <td>21.126667</td>\n",
              "      <td>3.000000</td>\n",
              "    </tr>\n",
              "    <tr>\n",
              "      <th>Art</th>\n",
              "      <td>5.689800</td>\n",
              "      <td>19.620000</td>\n",
              "      <td>1.500000</td>\n",
              "      <td>4.773467</td>\n",
              "      <td>14.320000</td>\n",
              "      <td>5.000000</td>\n",
              "    </tr>\n",
              "  </tbody>\n",
              "</table>\n",
              "</div>"
            ],
            "text/plain": [
              "                  profit        sales  ...     sales.1  quantity.1\n",
              "sub_category                           ...                        \n",
              "Binders       635.495000  1270.990000  ...   36.481556    4.666667\n",
              "Furnishings    36.727100   188.791000  ...   31.460000    2.333333\n",
              "Accessories    46.950625   178.026500  ...  251.100571    4.285714\n",
              "Phones         -7.296200    78.518667  ...  279.186000    3.000000\n",
              "Paper          23.493200    54.386000  ...   21.126667    3.000000\n",
              "Art             5.689800    19.620000  ...   14.320000    5.000000\n",
              "\n",
              "[6 rows x 6 columns]"
            ]
          },
          "metadata": {
            "tags": []
          },
          "execution_count": 40
        }
      ]
    },
    {
      "cell_type": "code",
      "metadata": {
        "id": "X_WZ4QZtPo9y",
        "colab_type": "code",
        "colab": {
          "base_uri": "https://localhost:8080/",
          "height": 452
        },
        "outputId": "c13bd90a-5812-4387-82d9-fa790886342e"
      },
      "source": [
        "PJJan2017"
      ],
      "execution_count": 41,
      "outputs": [
        {
          "output_type": "execute_result",
          "data": {
            "text/html": [
              "<div>\n",
              "<style scoped>\n",
              "    .dataframe tbody tr th:only-of-type {\n",
              "        vertical-align: middle;\n",
              "    }\n",
              "\n",
              "    .dataframe tbody tr th {\n",
              "        vertical-align: top;\n",
              "    }\n",
              "\n",
              "    .dataframe thead th {\n",
              "        text-align: right;\n",
              "    }\n",
              "</style>\n",
              "<table border=\"1\" class=\"dataframe\">\n",
              "  <thead>\n",
              "    <tr style=\"text-align: right;\">\n",
              "      <th></th>\n",
              "      <th>profit</th>\n",
              "      <th>sales</th>\n",
              "      <th>quantity</th>\n",
              "    </tr>\n",
              "    <tr>\n",
              "      <th>sub_category</th>\n",
              "      <th></th>\n",
              "      <th></th>\n",
              "      <th></th>\n",
              "    </tr>\n",
              "  </thead>\n",
              "  <tbody>\n",
              "    <tr>\n",
              "      <th>Art</th>\n",
              "      <td>4.773467</td>\n",
              "      <td>14.320000</td>\n",
              "      <td>5.000000</td>\n",
              "    </tr>\n",
              "    <tr>\n",
              "      <th>Copiers</th>\n",
              "      <td>1379.977000</td>\n",
              "      <td>2999.950000</td>\n",
              "      <td>5.000000</td>\n",
              "    </tr>\n",
              "    <tr>\n",
              "      <th>Binders</th>\n",
              "      <td>9.306467</td>\n",
              "      <td>36.481556</td>\n",
              "      <td>4.666667</td>\n",
              "    </tr>\n",
              "    <tr>\n",
              "      <th>Accessories</th>\n",
              "      <td>66.671000</td>\n",
              "      <td>251.100571</td>\n",
              "      <td>4.285714</td>\n",
              "    </tr>\n",
              "    <tr>\n",
              "      <th>Storage</th>\n",
              "      <td>22.192517</td>\n",
              "      <td>309.129667</td>\n",
              "      <td>3.833333</td>\n",
              "    </tr>\n",
              "    <tr>\n",
              "      <th>Machines</th>\n",
              "      <td>152.088300</td>\n",
              "      <td>350.973000</td>\n",
              "      <td>3.000000</td>\n",
              "    </tr>\n",
              "    <tr>\n",
              "      <th>Paper</th>\n",
              "      <td>10.059000</td>\n",
              "      <td>21.126667</td>\n",
              "      <td>3.000000</td>\n",
              "    </tr>\n",
              "    <tr>\n",
              "      <th>Phones</th>\n",
              "      <td>37.109933</td>\n",
              "      <td>279.186000</td>\n",
              "      <td>3.000000</td>\n",
              "    </tr>\n",
              "    <tr>\n",
              "      <th>Furnishings</th>\n",
              "      <td>12.396400</td>\n",
              "      <td>31.460000</td>\n",
              "      <td>2.333333</td>\n",
              "    </tr>\n",
              "    <tr>\n",
              "      <th>Fasteners</th>\n",
              "      <td>0.100800</td>\n",
              "      <td>2.520000</td>\n",
              "      <td>2.000000</td>\n",
              "    </tr>\n",
              "    <tr>\n",
              "      <th>Bookcases</th>\n",
              "      <td>18.695600</td>\n",
              "      <td>84.980000</td>\n",
              "      <td>1.000000</td>\n",
              "    </tr>\n",
              "    <tr>\n",
              "      <th>Chairs</th>\n",
              "      <td>-13.588200</td>\n",
              "      <td>120.784000</td>\n",
              "      <td>1.000000</td>\n",
              "    </tr>\n",
              "  </tbody>\n",
              "</table>\n",
              "</div>"
            ],
            "text/plain": [
              "                   profit        sales  quantity\n",
              "sub_category                                    \n",
              "Art              4.773467    14.320000  5.000000\n",
              "Copiers       1379.977000  2999.950000  5.000000\n",
              "Binders          9.306467    36.481556  4.666667\n",
              "Accessories     66.671000   251.100571  4.285714\n",
              "Storage         22.192517   309.129667  3.833333\n",
              "Machines       152.088300   350.973000  3.000000\n",
              "Paper           10.059000    21.126667  3.000000\n",
              "Phones          37.109933   279.186000  3.000000\n",
              "Furnishings     12.396400    31.460000  2.333333\n",
              "Fasteners        0.100800     2.520000  2.000000\n",
              "Bookcases       18.695600    84.980000  1.000000\n",
              "Chairs         -13.588200   120.784000  1.000000"
            ]
          },
          "metadata": {
            "tags": []
          },
          "execution_count": 41
        }
      ]
    }
  ]
}